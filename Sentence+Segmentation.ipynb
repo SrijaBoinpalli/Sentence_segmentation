{
 "cells": [
  {
   "cell_type": "code",
   "execution_count": 1,
   "metadata": {},
   "outputs": [
    {
     "name": "stdout",
     "output_type": "stream",
     "text": [
      "showing info https://raw.githubusercontent.com/nltk/nltk_data/gh-pages/index.xml\n"
     ]
    },
    {
     "data": {
      "text/plain": [
       "True"
      ]
     },
     "execution_count": 1,
     "metadata": {},
     "output_type": "execute_result"
    }
   ],
   "source": [
    " import nltk\n",
    "nltk.download()"
   ]
  },
  {
   "cell_type": "code",
   "execution_count": 2,
   "metadata": {},
   "outputs": [
    {
     "data": {
      "text/plain": [
       "['The',\n",
       " 'Fulton',\n",
       " 'County',\n",
       " 'Grand',\n",
       " 'Jury',\n",
       " 'said',\n",
       " 'Friday',\n",
       " 'an',\n",
       " 'investigation',\n",
       " 'of']"
      ]
     },
     "execution_count": 2,
     "metadata": {},
     "output_type": "execute_result"
    }
   ],
   "source": [
    "from nltk.corpus import brown #checking if nltk is working\n",
    "brown.words()[0:10]"
   ]
  },
  {
   "cell_type": "code",
   "execution_count": 3,
   "metadata": {
    "scrolled": true
   },
   "outputs": [
    {
     "data": {
      "text/plain": [
       "['__class__',\n",
       " '__delattr__',\n",
       " '__dict__',\n",
       " '__dir__',\n",
       " '__doc__',\n",
       " '__eq__',\n",
       " '__format__',\n",
       " '__ge__',\n",
       " '__getattribute__',\n",
       " '__gt__',\n",
       " '__hash__',\n",
       " '__init__',\n",
       " '__init_subclass__',\n",
       " '__le__',\n",
       " '__lt__',\n",
       " '__module__',\n",
       " '__ne__',\n",
       " '__new__',\n",
       " '__reduce__',\n",
       " '__reduce_ex__',\n",
       " '__repr__',\n",
       " '__setattr__',\n",
       " '__sizeof__',\n",
       " '__str__',\n",
       " '__subclasshook__',\n",
       " '__unicode__',\n",
       " '__weakref__',\n",
       " '_add',\n",
       " '_c2f',\n",
       " '_delimiter',\n",
       " '_encoding',\n",
       " '_f2c',\n",
       " '_file',\n",
       " '_fileids',\n",
       " '_get_root',\n",
       " '_init',\n",
       " '_map',\n",
       " '_para_block_reader',\n",
       " '_pattern',\n",
       " '_resolve',\n",
       " '_root',\n",
       " '_sent_tokenizer',\n",
       " '_sep',\n",
       " '_tagset',\n",
       " '_unload',\n",
       " '_word_tokenizer',\n",
       " 'abspath',\n",
       " 'abspaths',\n",
       " 'categories',\n",
       " 'citation',\n",
       " 'encoding',\n",
       " 'ensure_loaded',\n",
       " 'fileids',\n",
       " 'license',\n",
       " 'open',\n",
       " 'paras',\n",
       " 'raw',\n",
       " 'readme',\n",
       " 'root',\n",
       " 'sents',\n",
       " 'tagged_paras',\n",
       " 'tagged_sents',\n",
       " 'tagged_words',\n",
       " 'unicode_repr',\n",
       " 'words']"
      ]
     },
     "execution_count": 3,
     "metadata": {},
     "output_type": "execute_result"
    }
   ],
   "source": [
    " dir(brown)"
   ]
  },
  {
   "cell_type": "code",
   "execution_count": 4,
   "metadata": {},
   "outputs": [
    {
     "name": "stdout",
     "output_type": "stream",
     "text": [
      "*** Introductory Examples for the NLTK Book ***\n",
      "Loading text1, ..., text9 and sent1, ..., sent9\n",
      "Type the name of the text or sentence to view it.\n",
      "Type: 'texts()' or 'sents()' to list the materials.\n",
      "text1: Moby Dick by Herman Melville 1851\n",
      "text2: Sense and Sensibility by Jane Austen 1811\n",
      "text3: The Book of Genesis\n",
      "text4: Inaugural Address Corpus\n",
      "text5: Chat Corpus\n",
      "text6: Monty Python and the Holy Grail\n",
      "text7: Wall Street Journal\n",
      "text8: Personals Corpus\n",
      "text9: The Man Who Was Thursday by G . K . Chesterton 1908\n"
     ]
    }
   ],
   "source": [
    "from nltk.book import *"
   ]
  },
  {
   "cell_type": "code",
   "execution_count": 5,
   "metadata": {},
   "outputs": [
    {
     "data": {
      "text/plain": [
       "5"
      ]
     },
     "execution_count": 5,
     "metadata": {},
     "output_type": "execute_result"
    }
   ],
   "source": [
    "#actual program starts\n",
    "text = \"this's a sent tokenize test. this is sent two. is this sent three? sent 4 is cool! Now it's your turn.\"\n",
    "from nltk.tokenize import sent_tokenize\n",
    "sent_tokenize_list = sent_tokenize(text)\n",
    "len(sent_tokenize_list)"
   ]
  },
  {
   "cell_type": "code",
   "execution_count": 6,
   "metadata": {},
   "outputs": [
    {
     "data": {
      "text/plain": [
       "[\"this's a sent tokenize test.\",\n",
       " 'this is sent two.',\n",
       " 'is this sent three?',\n",
       " 'sent 4 is cool!',\n",
       " \"Now it's your turn.\"]"
      ]
     },
     "execution_count": 6,
     "metadata": {},
     "output_type": "execute_result"
    }
   ],
   "source": [
    "sent_tokenize_list"
   ]
  },
  {
   "cell_type": "code",
   "execution_count": 8,
   "metadata": {},
   "outputs": [
    {
     "data": {
      "text/plain": [
       "['List of Presidents of India - Wikipedia\\nList of Presidents of India\\nFrom Wikipedia, the free encyclopedia\\nJump to:\\t\\t\\t\\t\\tnavigation, \\t\\t\\t\\t\\tsearch\\nThe Main Gate of Rashtrapati Bhavan, the official residence of the President of India\\nThe President of India is the head of state and first citizen of India.',\n",
       " 'The President is also the Commander-in-chief of the Indian Armed Forces.',\n",
       " '[1] Although the president is vested such powers by the Constitution of India, the position is largely a ceremonial role and the executive powers are de facto exercised by the Prime Minister.',\n",
       " '[2] The post of President is known in Hindi as Rashtrapati, a Sanskrit neologism meaning \"lord of the realm\".',\n",
       " 'The President is elected by the Electoral College composed of elected members of the parliament houses, the Lok Sabha and the Rajya Sabha, and also members of the Vidhan Sabha, the state legislative assemblies.',\n",
       " \"[1]\\nThere have been 14 presidents of India since the introduction of the post in 1950 (the current tenure is 5 years of an Indian President's term).\",\n",
       " 'The post was established when India was declared as a republic with the adoption of the Indian constitution.',\n",
       " '[3] Apart from these thirteen, three acting presidents have also been in office for short periods of time.',\n",
       " 'Varahagiri Venkata Giri became Indian Acting President in 1969 following the death of Zakir Husain, who died in office.',\n",
       " 'Giri was elected President a few months later.',\n",
       " 'He remains the only person to have held office both as a president and acting president.',\n",
       " 'Giri was the only person to be elected as an independent candidate.',\n",
       " '[4] The President may remain in office for a tenure of five years, as stated by article 56, part V, of the constitution of India.',\n",
       " \"In the case where a president's term of office is terminated early or during the absence of the president, the vice president assumes office.\",\n",
       " 'By article 70 of part V, the parliament may decide how to discharge the functions of the president where this is not possible, or in any other unexpected contingency.',\n",
       " '[1] Rajendra Prasad, the first President of India, is the only person to have held office for two terms.',\n",
       " '[5]\\nPresidents by state of birth\\nSeven presidents have been members of a political party before being elected.',\n",
       " 'Six of these were active party members of the Indian National Congress.',\n",
       " 'The Janata Party has had one member, Neelam Sanjiva Reddy, who later became president, he was born in Anantapur District (now Andhra Pradesh).',\n",
       " 'Two presidents, Zakir Husain and Fakhruddin Ali Ahmed, have died in office.',\n",
       " 'Their vice-presidents functioned as acting president until a new president was elected.',\n",
       " \"Following Zakir Husain's death, two acting presidents held office until the new president, V. V. Giri, was elected.\",\n",
       " \"Varahagiri Venkata Giri himself, Zakir Husain's vice president, was the first acting president.\",\n",
       " 'When Giri resigned to take part in the presidential elections, he was succeeded by Mohammad Hidayatullah as acting president.',\n",
       " '[6] The 12th president, Pratibha Patil, is the first woman to serve as President of India, elected in 2007.',\n",
       " '[7]\\nThe current President is Ram Nath Kovind, elected on 25 July 2017.',\n",
       " 'Contents\\n1 Presidents\\n2 See also\\n3 References\\n3.1 General\\n3.2 Specific\\n4 External links\\nPresidents[edit]\\nThis list is numbered based on Presidents elected after winning an Indian Presidential election.',\n",
       " 'The terms of Varahagiri Venkata Giri, Mohammad Hidayatullah, and Basappa Danappa Jatti, who have functioned as acting presidents, are therefore not numbered.',\n",
       " 'The President of India does not represent any political party.',\n",
       " 'The colours used in the table indicate the following:\\nColour key\\nPresident of India\\nActing President of India (*)\\n№\\nName\\n(Birth–Death)\\nPortrait\\nElected\\nTook office\\nLeft office\\nVice President\\n1\\nRajendra Prasad\\n(1884–1963)\\n1952\\n1957\\n26 January 1950\\n12 May 1962\\nSarvepalli Radhakrishnan\\nPrasad, from Bihar, was the first President of independent India, and also the longest-serving President, for 12 years.',\n",
       " '[8][9] He was also a freedom fighter during the Indian independence movement.',\n",
       " '[10] Prasad was the only president to serve two terms in office.',\n",
       " '[5]\\n2\\nSarvepalli Radhakrishnan\\n(1888–1975)\\n1962\\n13 May 1962\\n13 May 1967\\nZakir Husain\\nRadhakrishnan was a prominent philosopher and writer and also held the position of vice chancellor of the Andhra University and Banaras Hindu University.',\n",
       " '[11] He was also made a Knight of the Golden Army of Angels by Pope Paul VI.',\n",
       " 'He received Bharat Ratna award in 1954 before becoming the President.',\n",
       " '[12] He was the first President from South India.',\n",
       " '3\\nZakir Husain\\n(1897–1969)\\n1967\\n13 May 1967\\n3 May 1969\\nVarahagiri Venkata Giri\\nHusain was vice chancellor of the Aligarh Muslim University and a recipient of Padma Vibhushan and Bharat Ratna.',\n",
       " '[13] He died in office, the first to do so.',\n",
       " 'He was also the shortest-serving President.',\n",
       " 'He was also the first Muslim President.',\n",
       " '–\\nVarahagiri Venkata Giri *\\n(1894–1980)\\n–\\n3 May 1969\\n20 July 1969\\n–\\nHe was elected Vice President of India in 1967.',\n",
       " 'Following the death of President Zakir Husain, Giri was appointed as Acting President.',\n",
       " '[14] He resigned in a few months to take part in the presidential elections.',\n",
       " '[6]\\n–\\nMohammad Hidayatullah *\\n(1905–1992)\\n–\\n20 July 1969\\n24 August 1969\\n–\\nHidayatullah served as the Chief Justice of India, and was also a recipient of the Order of the British Empire.',\n",
       " '[15] He served as Acting President until the election of Giri as the President of India.',\n",
       " '4\\nVarahagiri Venkata Giri\\n(1894–1980)\\n1969\\n24 August 1969\\n24 August 1974\\nGopal Swarup Pathak\\nGiri is the only person to have served as both an acting president and president of India.',\n",
       " 'He was a recipient of the Bharat Ratna, and has functioned as Indian Minister of Labour and High Commissioner to Ceylon (Sri Lanka).',\n",
       " '[16]\\n5\\nFakhruddin Ali Ahmed\\n(1905–1977)\\n1974\\n24 August 1974\\n11 February 1977\\nGopal Swarup Pathak (1974)\\nBasappa Danappa Jatti (1974–1977)\\nAhmed served as a Minister before being elected as president.',\n",
       " 'He died in 1977 before historical term of office ended, and was the second Indian president to die in office.',\n",
       " '[17] He was also president during Emergency.',\n",
       " \"[18]\\n–\\nBasappa Danappa Jatti *\\n(1912–2002)\\n–\\n11 February 1977\\n25 July 1977\\n–\\nJatti was the vice president of India during Ahmed's term of office, and was sworn in as Acting President upon Ahmed's death.\",\n",
       " 'He earlier functioned as the Chief Minister for the State of Mysore.',\n",
       " '[17][19]\\n6\\nNeelam Sanjiva Reddy\\n(1913–1996)\\n1977\\n25 July 1977\\n25 July 1982\\nBasappa Danappa Jatti (1977–1979)\\nMuhammad Hidayatullah (1979–1982)\\nReddy was the first Chief Minister of Andhra Pradesh State.',\n",
       " 'Reddy was the only Member of Parliament from the Janata Party to get elected from Andhra Pradesh.',\n",
       " '[20] He was unanimously elected Speaker of the Lok Sabha on 26 March 1977 and relinquished this office on 13 July 1977 to become the 6th President of India.',\n",
       " '7\\nGiani Zail Singh\\n(1916–1994)\\n1982\\n25 July 1982\\n25 July 1987\\nMuhammad Hidayatullah (1982–1984)\\nRamaswamy Venkataraman (1984–1987)\\nIn March 1972, Singh assumed the position of Chief Minister of Punjab, and in 1980, he became Union Home Minister.',\n",
       " 'He was also secretary general to Non-Aligned Movement (NAM) from 1983 to 1986[21]\\n8\\nRamaswamy Venkataraman\\n(1910–2009)\\n1987\\n25 July 1987\\n25 July 1992\\nShankar Dayal Sharma\\nIn 1942, Venkataraman was jailed by the British for his involvement in the Indian independence movement.',\n",
       " '[22] After his release, he was elected to independent India’s Provisional Parliament as a member of the Congress Party in 1950 and eventually joined the central government, where he first served as Minister of Finance and Industry and later as Minister of Defence.',\n",
       " '[23]\\n9\\nShankar Dayal Sharma\\n(1918–1999)\\n1992\\n25 July 1992\\n25 July 1997\\nKocheril Raman Narayanan\\nSharma was Chief Minister of Madhya Pradesh, and the Indian Minister for Communications.',\n",
       " 'He has also served as the governor of Andhra Pradesh, Punjab and Maharashtra.',\n",
       " \"[24]\\n10\\nKocheril Raman Narayanan\\n(1920–2005)\\n1997\\n25 July 1997\\n25 July 2002\\nKrishan Kant\\nNarayanan served as India's ambassador to Thailand, Turkey, China and United States of America.\",\n",
       " 'He received doctorates in Science and Law and was also a chancellor in several universities.',\n",
       " '[25] He was also the vice-chancellor of Jawaharlal Nehru University.',\n",
       " '[26] He was the first President from Kerala, and also the first Dalit President.',\n",
       " \"11\\nA. P. J. Abdul Kalam\\n(1931–2015)\\n2002\\n25 July 2002\\n25 July 2007\\nKrishan Kant (2002)\\nBhairon Singh Shekhawat (2002–2007)\\nKalam was a scientist who played a leading role in the development of India's ballistic missile and nuclear weapons programs.\",\n",
       " '[27] He also received the Bharat Ratna.',\n",
       " \"Kalam was affectionately known as the People's President, due to his extra-Presidential activities.\",\n",
       " 'He was the first bachelor president of India, and the first Muslim President who completed his term.',\n",
       " 'Kalam died following a heart attack while delivering a speech in Shillong.',\n",
       " '[28][29][30]\\n12\\nPratibha Patil\\n(1934–)\\n2007\\n25 July 2007\\n25 July 2012\\nMohammad Hamid Ansari\\nPatil was the first woman to become the President of India.',\n",
       " 'She was also the first female Governor of Rajasthan.',\n",
       " '[31][32]\\n13\\nPranab Mukherjee\\n(1935–)\\n2012\\n25 July 2012\\n25 July 2017\\nMohammad Hamid Ansari\\nMukherjee held various posts in the cabinet ministry for the Government of India such as Finance Minister, Foreign Minister, Defence Minister and Deputy Chairman of the Planning Commission.',\n",
       " '[33]\\n14\\nRam Nath Kovind\\n(1945–)\\n2017\\n25 July 2017\\nIncumbent\\nMohammad Hamid Ansari (2017)\\nVenkaiah Naidu\\nKovind was Governor of Bihar from 2015 until 2017 and a Member of Parliament from 1994 until 2006.',\n",
       " 'He is the second Dalit president after K. R. Narayanan.',\n",
       " 'He originally belongs to BJP and is an active member of RSS since his youth.',\n",
       " 'See also[edit]\\nPresident of India\\nVice President of India\\nList of Vice-Presidents of India\\nList of Prime Ministers of India\\nReferences[edit]\\nGeneral[edit]\\n\"Former Presidents\".',\n",
       " 'President’s Secretariat.',\n",
       " 'Retrieved 29 November 2008.',\n",
       " '\"List of Presidents/Vice Presidents\".',\n",
       " 'Election Commission of India.',\n",
       " 'Retrieved 29 November 2008.',\n",
       " 'Specific[edit]\\n^ a b c \"The Constitution of India\" (.doc).',\n",
       " 'Ministry of Law and Justice of India.',\n",
       " 'Retrieved 4 January 2009.',\n",
       " '^ \"India gets first woman president since independence\".',\n",
       " 'BBC News.',\n",
       " '25 July 2007.',\n",
       " 'Retrieved 30 November 2008.',\n",
       " '^ \"1950: India becomes a republic\".',\n",
       " 'BBC News.',\n",
       " '26 January 1950.',\n",
       " 'Retrieved 6 January 2009.',\n",
       " '^ http://www.hindustantimes.com/india-news/bjp-vs-opposition-india-set-to-witness-tightest-presidential-poll-since-1969/story-sZ5LlpWvMBaxPULLoQHZbN.html\\n^ a b Harish Khare (6 December 2006).',\n",
       " '\"Selecting the next Rashtrapati\".',\n",
       " 'The Hindu.',\n",
       " 'India.',\n",
       " 'Retrieved 30 November 2008.',\n",
       " '^ a b Shekhar Iyer (25 June 2007).',\n",
       " '\"Shekhawat will not resign to contest poll\".',\n",
       " 'Hindustan Times.',\n",
       " 'India.',\n",
       " 'Retrieved 4 January 2009.',\n",
       " '^ \"First female president for India\".',\n",
       " 'BBC News.',\n",
       " '21 July 2007.',\n",
       " 'Retrieved 4 December 2008.',\n",
       " '^ \"Rajendra Prasad\".',\n",
       " 'The Hindu.',\n",
       " 'India.',\n",
       " '7 May 1952.',\n",
       " 'Retrieved 30 November 2008.',\n",
       " '^ \"Republic Day\".',\n",
       " 'Time.',\n",
       " '6 February 1950.',\n",
       " 'Retrieved 30 November 2008.',\n",
       " '^ \"Rajendra Prasad\\'s birth anniversary celebrated\".',\n",
       " 'The Hindu.',\n",
       " 'India.',\n",
       " '10 December 2006.',\n",
       " 'Retrieved 30 November 2008.',\n",
       " '^ Ramachandra Guha (15 April 2006).',\n",
       " '\"Why Amartya Sen should become the next president of India\".',\n",
       " 'The Telegraph.',\n",
       " 'Retrieved 30 November 2008.',\n",
       " '^ \"Dr S. Radhakrishnan\".',\n",
       " 'The Sunday Tribune.',\n",
       " '30 January 2000.',\n",
       " 'Retrieved 30 November 2008.',\n",
       " '^ \"Zakir Husain,\".',\n",
       " \"Vice President's Secretariat.\",\n",
       " 'Retrieved 30 November 2008.',\n",
       " '^ \"Shekhawat need not compare himself to Giri: Shashi Bhushan\".',\n",
       " 'The Hindu.',\n",
       " 'India.',\n",
       " '12 July 2007.',\n",
       " 'Retrieved 30 November 2008.',\n",
       " '^ \"Hidayatullah, Shri M\".',\n",
       " \"Vice President's Secretariat.\",\n",
       " 'Retrieved 30 November 2008.',\n",
       " '^ \"Giri, Shri Varahagiri Venkata\".',\n",
       " \"Vice President's Secretariat.\",\n",
       " 'Retrieved 30 November 2008.',\n",
       " '^ a b \"Gallery of Indian Presidents\".',\n",
       " 'Press Information Bureau of the Government of India.',\n",
       " 'Retrieved 30 November 2008.',\n",
       " '^ \"Emergency: The Dark Age of Indian democracy\".',\n",
       " 'The Hindu.',\n",
       " 'Retrieved 25 July 2017.',\n",
       " '^ \"Jatti, Shri Basappa Danappa\".',\n",
       " \"Vice President's Secretariat.\",\n",
       " 'Retrieved 30 November 2008.',\n",
       " '^ Bhargava, G.S.',\n",
       " '\"Making of the Prez – Congress chief selects PM as well as President\".',\n",
       " 'The Tribune.',\n",
       " 'India.',\n",
       " 'Retrieved 6 January 2009.',\n",
       " '^ Wolpert, Stanley A.',\n",
       " '(1999).',\n",
       " 'India.',\n",
       " 'University of California Press.',\n",
       " 'p.\\xa0217.',\n",
       " 'Retrieved 3 January 2009.',\n",
       " '^ Hazarika, Sanjoy (17 July 1987).',\n",
       " '\"Man in the News; India\\'s Mild New President: Ramaswamy Venkataraman\".',\n",
       " 'The New York Times.',\n",
       " 'Retrieved 6 January 2009.',\n",
       " '^ \"Venkataraman, Shri R.\".',\n",
       " \"Vice President's Secretariat.\",\n",
       " 'Retrieved 6 January 2009.',\n",
       " '^ Navtej Sarna (27 December 1999).',\n",
       " '\"Former President Shankar Dayal Sharma passes away\".',\n",
       " 'Embassy of India, Washington D.C. Retrieved 6 December 2008.',\n",
       " '^ \"Narayanan, Shri K, R\".',\n",
       " \"Vice President's Secretariat.\",\n",
       " 'Archived from the original on 10 February 2009.',\n",
       " 'Retrieved 6 December 2008.',\n",
       " '^ \"The BJP\\'s aim was to get rid of me\".',\n",
       " 'Confederation of Human Rights Organizations.',\n",
       " 'Archived from the original on 12 October 2008.',\n",
       " 'Retrieved 6 January 2009.',\n",
       " '^ Ramana, M. V.; Reddy, C. Rammanohar (2002).',\n",
       " 'Prisoners of the Nuclear Dream.',\n",
       " 'New Delhi: Orient Longman.',\n",
       " 'p.\\xa0169.',\n",
       " '^ Tyagi, Kavita; Misra, Padma.',\n",
       " 'Basic Technical Communication.',\n",
       " 'PHI Learning Pvt.',\n",
       " 'Ltd. p.\\xa0124.',\n",
       " 'ISBN\\xa0978-81-203-4238-5.',\n",
       " 'Retrieved 2 May 2012.',\n",
       " '^ \"\\'Kalam was real people\\'s President\\'\".',\n",
       " 'Hindustan Times.',\n",
       " 'Indo-Asian News Service.',\n",
       " '24 July 2007.',\n",
       " 'Retrieved 2 May 2012.',\n",
       " '^ Perappadan, Bindu Shajan (14 April 2007).',\n",
       " '\"The people\\'s President does it again\".',\n",
       " 'The Hindu.',\n",
       " 'Chennai, India.',\n",
       " 'Retrieved 2 May 2012.',\n",
       " '^ Emily Wax (22 July 2007).',\n",
       " '\"Female President Elected in India\".',\n",
       " 'The Washington Post.',\n",
       " 'Retrieved 2 December 2008.',\n",
       " '^ \"Pratibha Patil is Rajasthan’s first woman governor\".',\n",
       " 'Express India.',\n",
       " '8 November 2008.',\n",
       " 'Retrieved 6 December 2008.',\n",
       " '^ http://zeenews.india.com/news/exclusive/pranab-mukherjee-–-the-13th-president-of-india_789045.html\\nExternal links[edit]\\nOfficial website of the President of India\\nRediff.com – Presidents of India\\nThe Hindu – A presidential poll in the coalition age\\nZee News: Former Presidents\\nv\\nt\\ne\\nPresidents of India (List)\\nRajendra Prasad\\nSarvepalli Radhakrishnan\\nZakir Hussain\\nV. V. Giri (acting)\\nMohammad Hidayatullah (acting)\\nV. V. Giri\\nFakhruddin Ali Ahmed\\nB. D. Jatti (acting)\\nNeelam Sanjiva Reddy\\nZail Singh\\nR. Venkataraman\\nShankar Dayal Sharma\\nK. R. Narayanan\\nA. P. J. Abdul Kalam\\nPratibha Patil\\nPranab Mukherjee\\nRam Nath Kovind\\nv\\nt\\ne\\nLists of Presidents and Vice Presidents of India\\nPresidential lists by order\\nOrder of service\\nAge\\nBirth\\nDeath\\nNumber Living\\nTime in office\\nPresidents\\' personal lives\\nCollege education\\nPlace of birth\\nPlace of primary affiliation\\nPrevious occupation\\nReligious affiliation\\nPresidents\\' professional lives\\nPolitical affiliation\\nPrevious experience\\nInaugurations (Addresses)\\nPardons\\nVacancies\\nVice Presidential lists\\nOrder of service\\nTime in office\\nBirth\\nLongevity\\nVacancies\\nSuccession\\nLine of succession\\nv\\nt\\ne\\nGovernment ministries of India\\nPresident (List) • Government of India • Prime Minister (List • Office) • Deputy Prime Minister • Council of Ministers\\nCurrent\\nAgriculture and Farmers Welfare\\nAYUSH\\nChemicals and Fertilizers\\nCivil Aviation\\nCoal\\nCommerce and Industry\\nCommunications\\nConsumer Affairs\\nCulture\\nDefence\\nDrinking Water and Sanitation\\nEarth Sciences\\nElectronics and Information Technology\\nEnvironment, Forest and Climate Change\\nExternal Affiars\\nFinance\\nFood Processing Industries\\nHealth and Family Welfare\\nHeavy Industries and Public Enterprises\\nHome Affairs\\nHousing and Urban Poverty Alleviation\\nHuman Resource Development\\nInformation and Broadcasting\\nLabour and Employment\\nLaw and Justice\\nMicro, Small and Medium Enterprises\\nMines\\nMinority Affairs\\nNew and Renewable Energy\\nNorth East\\nPanchayati Raj\\nParliamentary Affairs\\nPersonnel, Public Grievances and Pensions\\nPetroleum\\nPower\\nRailways\\nRoad Transport and Highways\\nRural Development\\nScience and Technology\\nShipping\\nSkill Development and Entrepreneurship\\nSocial Justice and Empowerment\\nStatistics and Programme Implementation\\nSteel\\nTextiles\\nTourism\\nTribal Affairs\\nUrban Development\\nWater Resources\\nWomen and Child Development\\nDefunct\\nCommunications and Information Technology\\nOverseas Indian Affairs\\nSurface Transport\\nMinisters\\nHome Affairs\\nFinance\\nExternal Affairs\\nDefence\\nRailways\\nHealth and Family Welfare\\nHRD\\nInformation and Broadcasting\\nLabour and Employment\\nParliamentary Affairs\\nScience and Technology\\nTribal Affairs\\nNorth Eastern Region\\nRetrieved from \"https://en.wikipedia.org/w/index.php?title=List_of_Presidents_of_India&oldid=795593041\"\\nCategories: Lists of presidentsLists relating to the Indian presidencyLists of political office-holders in IndiaHidden categories: Use Indian English from December 2012All Wikipedia articles written in Indian EnglishUse dmy dates from January 2013\\nNavigation menu\\nPersonal tools\\nNot logged inTalkContributionsCreate accountLog in\\nNamespaces\\nArticle\\nTalk\\nVariants\\nViews\\nRead\\nEdit\\nView history\\nMore\\nSearch\\nNavigation\\nMain pageContentsFeatured contentCurrent eventsRandom articleDonate to WikipediaWikipedia store\\nInteraction\\nHelpAbout WikipediaCommunity portalRecent changesContact page\\nTools\\nWhat links hereRelated changesUpload fileSpecial pagesPermanent linkPage informationWikidata itemCite this page\\nPrint/export\\nCreate a bookDownload as PDFPrintable version\\nLanguages\\nالعربيةঅসমীয়াবাংলাČeštinaDanskDeutschEspañolفارسیFrançaisગુજરાતીहिन्दीIdoBahasa IndonesiaItalianoಕನ್ನಡLëtzebuergeschमैथिलीമലയാളംBahasa MelayuNederlandsNorsk bokmålOccitanଓଡ଼ିଆਪੰਜਾਬੀPortuguêsसंस्कृतम्Suomiதமிழ்తెలుగుTürkçeاردو中文\\nEdit links\\nThis page was last edited on 15 August 2017, at 06:51.',\n",
       " 'Text is available under the Creative Commons Attribution-ShareAlike License;\\nadditional terms may apply.',\n",
       " 'By using this site, you agree to the Terms of Use and Privacy Policy.',\n",
       " 'Wikipedia® is a registered trademark of the Wikimedia Foundation, Inc., a non-profit organization.',\n",
       " 'Privacy policy\\nAbout Wikipedia\\nDisclaimers\\nContact Wikipedia\\nDevelopers\\nCookie statement\\nMobile view']"
      ]
     },
     "execution_count": 8,
     "metadata": {},
     "output_type": "execute_result"
    }
   ],
   "source": [
    "import urllib\n",
    "from bs4 import BeautifulSoup\n",
    "\n",
    "url = \"https://en.wikipedia.org/wiki/List_of_Presidents_of_India\"\n",
    "html = urllib.request.urlopen(url).read()\n",
    "soup = BeautifulSoup(html,\"html.parser\")\n",
    "\n",
    "# kill all script and style elements\n",
    "for script in soup([\"script\", \"style\"]):\n",
    "    script.extract()\n",
    "\n",
    "# get text\n",
    "text = soup.get_text()\n",
    "\n",
    "# break into lines and remove leading and trailing space on each\n",
    "lines = (line.strip() for line in text.splitlines())\n",
    "# break multi-headlines into a line each\n",
    "chunks = (phrase.strip() for line in lines for phrase in line.split(\"  \"))\n",
    "# drop blank lines\n",
    "text = '\\n'.join(chunk for chunk in chunks if chunk)\n",
    "sent_tokenize(text)"
   ]
  },
  {
   "cell_type": "code",
   "execution_count": null,
   "metadata": {
    "collapsed": true
   },
   "outputs": [],
   "source": []
  }
 ],
 "metadata": {
  "kernelspec": {
   "display_name": "Python 3",
   "language": "python",
   "name": "python3"
  },
  "language_info": {
   "codemirror_mode": {
    "name": "ipython",
    "version": 3
   },
   "file_extension": ".py",
   "mimetype": "text/x-python",
   "name": "python",
   "nbconvert_exporter": "python",
   "pygments_lexer": "ipython3",
   "version": "3.6.1"
  }
 },
 "nbformat": 4,
 "nbformat_minor": 2
}
